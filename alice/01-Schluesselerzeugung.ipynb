{
 "cells": [
  {
   "cell_type": "markdown",
   "metadata": {},
   "source": [
    "Benötigte tools importieren.\n",
    "\n",
    "Da diese im Verzeichnis oberhalb von `alice` angelegt sind, muss der Suchpfad verändert werden:"
   ]
  },
  {
   "cell_type": "code",
   "execution_count": 1,
   "metadata": {},
   "outputs": [],
   "source": [
    "import os\n",
    "os.sys.path.append('../')\n",
    "import tools"
   ]
  },
  {
   "cell_type": "markdown",
   "metadata": {},
   "source": [
    "Pfad für Schlüssel anlegen:"
   ]
  },
  {
   "cell_type": "code",
   "execution_count": 2,
   "metadata": {},
   "outputs": [],
   "source": [
    "encr_path = './.encr'\n",
    "if not os.path.exists(encr_path):\n",
    "    os.mkdir(encr_path,mode=0o700)"
   ]
  },
  {
   "cell_type": "markdown",
   "metadata": {},
   "source": [
    "Schlüssel erzeugen"
   ]
  },
  {
   "cell_type": "code",
   "execution_count": 3,
   "metadata": {},
   "outputs": [
    {
     "name": "stdout",
     "output_type": "stream",
     "text": [
      "./.encr/secret_key\n"
     ]
    }
   ],
   "source": [
    "fullname = os.path.join(encr_path,'secret_key')\n",
    "print(fullname)"
   ]
  },
  {
   "cell_type": "code",
   "execution_count": 4,
   "metadata": {},
   "outputs": [],
   "source": [
    "tools.create_keys(fullname)"
   ]
  },
  {
   "cell_type": "markdown",
   "metadata": {},
   "source": [
    "Öffentlichen Schlüssel zu Bob transportieren (hier einfach durch kopieren)"
   ]
  },
  {
   "cell_type": "code",
   "execution_count": 5,
   "metadata": {},
   "outputs": [
    {
     "name": "stdout",
     "output_type": "stream",
     "text": [
      "total 16\r\n",
      "drwx------  4 wolfgang  wheel   128B  9 Jul 21:33 \u001b[34m.\u001b[m\u001b[m\r\n",
      "drwxr-xr-x  7 wolfgang  wheel   224B  9 Jul 21:33 \u001b[34m..\u001b[m\u001b[m\r\n",
      "-rwx------  1 wolfgang  wheel    64B  9 Jul 21:33 \u001b[31msecret_key\u001b[m\u001b[m\r\n",
      "-rw-r--r--  1 wolfgang  wheel    64B  9 Jul 21:33 secret_key.pub\r\n"
     ]
    }
   ],
   "source": [
    "!ls -hal ./.encr/"
   ]
  },
  {
   "cell_type": "code",
   "execution_count": 6,
   "metadata": {},
   "outputs": [],
   "source": [
    "!cp $fullname'.pub' ../bob/alice.pub"
   ]
  }
 ],
 "metadata": {
  "kernelspec": {
   "display_name": "Python 3",
   "language": "python",
   "name": "python3"
  },
  "language_info": {
   "codemirror_mode": {
    "name": "ipython",
    "version": 3
   },
   "file_extension": ".py",
   "mimetype": "text/x-python",
   "name": "python",
   "nbconvert_exporter": "python",
   "pygments_lexer": "ipython3",
   "version": "3.7.7"
  }
 },
 "nbformat": 4,
 "nbformat_minor": 4
}
