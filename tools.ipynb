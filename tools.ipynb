{
 "cells": [
  {
   "cell_type": "code",
   "execution_count": 1,
   "metadata": {},
   "outputs": [],
   "source": [
    "from tools import *"
   ]
  },
  {
   "cell_type": "code",
   "execution_count": 2,
   "metadata": {},
   "outputs": [],
   "source": [
    "encr_path = './.encr'\n",
    "if not os.path.exists(encr_path):\n",
    "    os.mkdir(encr_path,mode=0o700)"
   ]
  },
  {
   "cell_type": "code",
   "execution_count": 3,
   "metadata": {},
   "outputs": [
    {
     "name": "stdout",
     "output_type": "stream",
     "text": [
      "./.encr/test\n"
     ]
    }
   ],
   "source": [
    "fullname = os.path.join(encr_path,'test')\n",
    "print(fullname)"
   ]
  },
  {
   "cell_type": "code",
   "execution_count": 4,
   "metadata": {},
   "outputs": [],
   "source": [
    "create_keys(fullname)"
   ]
  },
  {
   "cell_type": "code",
   "execution_count": 5,
   "metadata": {},
   "outputs": [
    {
     "name": "stdout",
     "output_type": "stream",
     "text": [
      "069c2270cf2cb00f5831e88e08725d514254f7613355348151201606b9a36f43\n"
     ]
    }
   ],
   "source": [
    "key = read_secret_key(fullname)\n",
    "print(key.encode(nacl.encoding.HexEncoder).decode())"
   ]
  },
  {
   "cell_type": "code",
   "execution_count": 6,
   "metadata": {},
   "outputs": [
    {
     "name": "stdout",
     "output_type": "stream",
     "text": [
      "03fef386ecc2d6b43c16677b7b6b3ff24594e1d7b832475bc6d8691402b08c51\n"
     ]
    }
   ],
   "source": [
    "pubkey = read_public_key(fullname+'.pub')\n",
    "print(pubkey.encode(nacl.encoding.HexEncoder).decode())"
   ]
  },
  {
   "cell_type": "code",
   "execution_count": 7,
   "metadata": {},
   "outputs": [],
   "source": [
    "encrypt(key,pubkey,'text.txt','text.txt.encr')"
   ]
  },
  {
   "cell_type": "code",
   "execution_count": 8,
   "metadata": {},
   "outputs": [],
   "source": [
    "decrypt(key,pubkey,'text.txt.encr','text.txt.encr.txt')"
   ]
  },
  {
   "cell_type": "markdown",
   "metadata": {},
   "source": [
    "Is first encrypted then decrypted file the same as original file:"
   ]
  },
  {
   "cell_type": "code",
   "execution_count": 9,
   "metadata": {},
   "outputs": [
    {
     "name": "stdout",
     "output_type": "stream",
     "text": [
      "True\n"
     ]
    }
   ],
   "source": [
    "import nacl.hash\n",
    "with open('text.txt','rb') as f, open('text.txt.encr.txt','rb') as g:\n",
    "    print(\n",
    "        nacl.hash.sha256(f.read()) == nacl.hash.sha256(g.read())\n",
    "    )"
   ]
  },
  {
   "cell_type": "code",
   "execution_count": 10,
   "metadata": {},
   "outputs": [
    {
     "name": "stdout",
     "output_type": "stream",
     "text": [
      "total 32\r\n",
      "drwx------   6 wolfgang  wheel   192B  9 Jul 21:30 \u001b[34m.\u001b[m\u001b[m\r\n",
      "drwxr-xr-x  17 wolfgang  wheel   544B  9 Jul 21:30 \u001b[34m..\u001b[m\u001b[m\r\n",
      "-rwx------   1 wolfgang  wheel    64B  9 Jul 21:28 \u001b[31msecret_key\u001b[m\u001b[m\r\n",
      "-rw-r--r--   1 wolfgang  wheel    64B  9 Jul 21:28 secret_key.pub\r\n",
      "-rwx------   1 wolfgang  wheel    64B  9 Jul 21:30 \u001b[31mtest\u001b[m\u001b[m\r\n",
      "-rw-r--r--   1 wolfgang  wheel    64B  9 Jul 21:30 test.pub\r\n"
     ]
    }
   ],
   "source": [
    "!ls -hal ./.encr/"
   ]
  }
 ],
 "metadata": {
  "kernelspec": {
   "display_name": "Python 3",
   "language": "python",
   "name": "python3"
  },
  "language_info": {
   "codemirror_mode": {
    "name": "ipython",
    "version": 3
   },
   "file_extension": ".py",
   "mimetype": "text/x-python",
   "name": "python",
   "nbconvert_exporter": "python",
   "pygments_lexer": "ipython3",
   "version": "3.7.7"
  }
 },
 "nbformat": 4,
 "nbformat_minor": 4
}
