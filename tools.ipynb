{
 "cells": [
  {
   "cell_type": "code",
   "execution_count": 1,
   "metadata": {},
   "outputs": [],
   "source": [
    "from tools import *"
   ]
  },
  {
   "cell_type": "code",
   "execution_count": 2,
   "metadata": {},
   "outputs": [],
   "source": [
    "encr_path = './.encr'\n",
    "if not os.path.exists(encr_path):\n",
    "    os.mkdir(encr_path,mode=0o700)"
   ]
  },
  {
   "cell_type": "code",
   "execution_count": 3,
   "metadata": {},
   "outputs": [
    {
     "name": "stdout",
     "output_type": "stream",
     "text": [
      "./.encr/test\n"
     ]
    }
   ],
   "source": [
    "fullname = os.path.join(encr_path,'test')\n",
    "print(fullname)"
   ]
  },
  {
   "cell_type": "code",
   "execution_count": 4,
   "metadata": {},
   "outputs": [],
   "source": [
    "create_keys(fullname)"
   ]
  },
  {
   "cell_type": "code",
   "execution_count": 5,
   "metadata": {},
   "outputs": [
    {
     "name": "stdout",
     "output_type": "stream",
     "text": [
      "3e0a4213059bcfacc7a41b795da8d35d24ceee9370bf8e395aa6df9a2ff9e47c\n"
     ]
    }
   ],
   "source": [
    "key = read_secret_key(fullname)\n",
    "print(key.encode(nacl.encoding.HexEncoder).decode())"
   ]
  },
  {
   "cell_type": "code",
   "execution_count": 6,
   "metadata": {},
   "outputs": [
    {
     "name": "stdout",
     "output_type": "stream",
     "text": [
      "09b163d3db12388cc56d1d684692ebb5a6f195d7f1b855eddfc552d069a48863\n"
     ]
    }
   ],
   "source": [
    "pubkey = read_public_key(fullname+'.pub')\n",
    "print(pubkey.encode(nacl.encoding.HexEncoder).decode())"
   ]
  },
  {
   "cell_type": "code",
   "execution_count": 7,
   "metadata": {},
   "outputs": [],
   "source": [
    "encrypt(key,pubkey,'text.txt','text.txt.encr')"
   ]
  },
  {
   "cell_type": "code",
   "execution_count": 8,
   "metadata": {},
   "outputs": [],
   "source": [
    "decrypt(key,pubkey,'text.txt.encr','text.txt.encr.txt')"
   ]
  },
  {
   "cell_type": "markdown",
   "metadata": {},
   "source": [
    "Is first encrypted then decrypted file the same as original file:"
   ]
  },
  {
   "cell_type": "code",
   "execution_count": 9,
   "metadata": {},
   "outputs": [
    {
     "name": "stdout",
     "output_type": "stream",
     "text": [
      "True\n"
     ]
    }
   ],
   "source": [
    "import nacl.hash\n",
    "with open('text.txt','rb') as f, open('text.txt.encr.txt','rb') as g:\n",
    "    print(\n",
    "        nacl.hash.sha256(f.read()) == nacl.hash.sha256(g.read())\n",
    "    )"
   ]
  }
 ],
 "metadata": {
  "kernelspec": {
   "display_name": "Python 3",
   "language": "python",
   "name": "python3"
  },
  "language_info": {
   "codemirror_mode": {
    "name": "ipython",
    "version": 3
   },
   "file_extension": ".py",
   "mimetype": "text/x-python",
   "name": "python",
   "nbconvert_exporter": "python",
   "pygments_lexer": "ipython3",
   "version": "3.7.7"
  }
 },
 "nbformat": 4,
 "nbformat_minor": 4
}
