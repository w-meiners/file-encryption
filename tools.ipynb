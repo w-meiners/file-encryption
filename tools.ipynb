{
 "cells": [
  {
   "cell_type": "code",
   "execution_count": 1,
   "metadata": {},
   "outputs": [],
   "source": [
    "from tools import *"
   ]
  },
  {
   "cell_type": "code",
   "execution_count": 2,
   "metadata": {},
   "outputs": [],
   "source": [
    "encr_path = './.encr'\n",
    "if not os.path.exists(encr_path):\n",
    "    os.mkdir(encr_path,mode=0o700)"
   ]
  },
  {
   "cell_type": "code",
   "execution_count": 3,
   "metadata": {},
   "outputs": [
    {
     "name": "stdout",
     "output_type": "stream",
     "text": [
      "./.encr/test\n"
     ]
    }
   ],
   "source": [
    "fullname = os.path.join(encr_path,'test')\n",
    "print(fullname)"
   ]
  },
  {
   "cell_type": "code",
   "execution_count": 4,
   "metadata": {},
   "outputs": [],
   "source": [
    "create_keys(fullname)"
   ]
  },
  {
   "cell_type": "code",
   "execution_count": 5,
   "metadata": {},
   "outputs": [
    {
     "name": "stdout",
     "output_type": "stream",
     "text": [
      "182836a1568c2021eeaa1ced6296ecf2cf4079223071622c5a5d926b0fba683b\n"
     ]
    }
   ],
   "source": [
    "key = read_secret_key(fullname)\n",
    "print(key.encode(nacl.encoding.HexEncoder).decode())"
   ]
  },
  {
   "cell_type": "code",
   "execution_count": 6,
   "metadata": {},
   "outputs": [
    {
     "name": "stdout",
     "output_type": "stream",
     "text": [
      "6e243be01010144c1eaa4ca8f4e1cbcd7d60c9eb65d9719c7b54c748381f9259\n"
     ]
    }
   ],
   "source": [
    "pubkey = read_public_key(fullname+'.pub')\n",
    "print(pubkey.encode(nacl.encoding.HexEncoder).decode())"
   ]
  },
  {
   "cell_type": "code",
   "execution_count": 7,
   "metadata": {},
   "outputs": [],
   "source": [
    "encrypt(key,pubkey,'text.txt','text.txt.encr')"
   ]
  },
  {
   "cell_type": "code",
   "execution_count": 8,
   "metadata": {},
   "outputs": [],
   "source": [
    "decrypt(key,pubkey,'text.txt.encr','text.txt.encr.txt')"
   ]
  },
  {
   "cell_type": "markdown",
   "metadata": {},
   "source": [
    "Is first encrypted then decrypted file the same as original file:"
   ]
  },
  {
   "cell_type": "code",
   "execution_count": 9,
   "metadata": {},
   "outputs": [
    {
     "name": "stdout",
     "output_type": "stream",
     "text": [
      "True\n"
     ]
    }
   ],
   "source": [
    "import nacl.hash\n",
    "with open('text.txt','rb') as f, open('text.txt.encr.txt','rb') as g:\n",
    "    print(\n",
    "        nacl.hash.sha256(f.read()) == nacl.hash.sha256(g.read())\n",
    "    )"
   ]
  },
  {
   "cell_type": "code",
   "execution_count": 10,
   "metadata": {},
   "outputs": [
    {
     "name": "stdout",
     "output_type": "stream",
     "text": [
      "total 32\r\n",
      "drwx------   6 wolfgang  wheel   192B 10 Jul 14:05 \u001b[34m.\u001b[m\u001b[m\r\n",
      "drwxr-xr-x  17 wolfgang  wheel   544B 10 Jul 14:05 \u001b[34m..\u001b[m\u001b[m\r\n",
      "-rw-------   1 wolfgang  wheel    64B 10 Jul 14:05 secret_key\r\n",
      "-rw-r--r--   1 wolfgang  wheel    64B 10 Jul 14:05 secret_key.pub\r\n",
      "-rw-------   1 wolfgang  wheel    64B 10 Jul 14:05 test\r\n",
      "-rw-r--r--   1 wolfgang  wheel    64B 10 Jul 14:05 test.pub\r\n"
     ]
    }
   ],
   "source": [
    "!ls -hal ./.encr/"
   ]
  }
 ],
 "metadata": {
  "kernelspec": {
   "display_name": "Python 3",
   "language": "python",
   "name": "python3"
  },
  "language_info": {
   "codemirror_mode": {
    "name": "ipython",
    "version": 3
   },
   "file_extension": ".py",
   "mimetype": "text/x-python",
   "name": "python",
   "nbconvert_exporter": "python",
   "pygments_lexer": "ipython3",
   "version": "3.7.7"
  }
 },
 "nbformat": 4,
 "nbformat_minor": 4
}
