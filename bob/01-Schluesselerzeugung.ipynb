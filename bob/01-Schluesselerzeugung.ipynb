{
 "cells": [
  {
   "cell_type": "markdown",
   "metadata": {},
   "source": [
    "Importiere benötigte tools.\n",
    "\n",
    "Da die Datei `tools.py` im Verzeichnis oberhalb von `bob` angelegt ist, muss der Suchpfad verändert werden."
   ]
  },
  {
   "cell_type": "code",
   "execution_count": 2,
   "metadata": {},
   "outputs": [],
   "source": [
    "import os\n",
    "os.sys.path.append('../')\n",
    "import tools"
   ]
  },
  {
   "cell_type": "markdown",
   "metadata": {},
   "source": [
    "Pfad für Schlüssel anlegen:"
   ]
  },
  {
   "cell_type": "code",
   "execution_count": 3,
   "metadata": {},
   "outputs": [],
   "source": [
    "encr_path = './.encr'\n",
    "if not os.path.exists(encr_path):\n",
    "    os.mkdir(encr_path,mode=0o700)"
   ]
  },
  {
   "cell_type": "markdown",
   "metadata": {},
   "source": [
    "Schlüssel erzeugen"
   ]
  },
  {
   "cell_type": "code",
   "execution_count": 4,
   "metadata": {},
   "outputs": [
    {
     "name": "stdout",
     "output_type": "stream",
     "text": [
      "./.encr/secret_key\n"
     ]
    }
   ],
   "source": [
    "fullname = os.path.join(encr_path,'secret_key')\n",
    "print(fullname)"
   ]
  },
  {
   "cell_type": "code",
   "execution_count": 5,
   "metadata": {},
   "outputs": [],
   "source": [
    "tools.create_keys(fullname)"
   ]
  },
  {
   "cell_type": "code",
   "execution_count": 6,
   "metadata": {},
   "outputs": [
    {
     "name": "stdout",
     "output_type": "stream",
     "text": [
      ".:\r\n",
      "total 568\r\n",
      "drwxr-xr-x  10 wolfgang  wheel   320B 10 Jul 12:36 \u001b[34m.\u001b[m\u001b[m\r\n",
      "drwxr-xr-x  15 wolfgang  wheel   480B 10 Jul 12:33 \u001b[34m..\u001b[m\u001b[m\r\n",
      "drwx------   4 wolfgang  wheel   128B 10 Jul 12:36 \u001b[34m.encr\u001b[m\u001b[m\r\n",
      "drwxr-xr-x   4 wolfgang  wheel   128B 10 Jul 11:50 \u001b[34m.ipynb_checkpoints\u001b[m\u001b[m\r\n",
      "-rw-r--r--   1 wolfgang  wheel   2,6K 10 Jul 11:44 01-Schluesselerzeugung.ipynb\r\n",
      "-rw-r--r--   1 wolfgang  wheel   4,3K 10 Jul 11:50 02-Datei_entschluesseln.ipynb\r\n",
      "-rw-r--r--   1 wolfgang  wheel   779B  9 Jul 21:50 03-Datei_anzeigen.ipynb\r\n",
      "-rw-r--r--   1 wolfgang  wheel   129K 10 Jul 11:49 Rätsel.png\r\n",
      "-rw-r--r--   1 wolfgang  wheel   129K 10 Jul 11:46 Rätsel.png.encr.gz\r\n",
      "-rw-r--r--   1 wolfgang  wheel    64B 10 Jul 12:35 alice.pub\r\n",
      "\r\n",
      "./.encr/:\r\n",
      "total 16\r\n",
      "drwx------   4 wolfgang  wheel   128B 10 Jul 12:36 \u001b[34m.\u001b[m\u001b[m\r\n",
      "drwxr-xr-x  10 wolfgang  wheel   320B 10 Jul 12:36 \u001b[34m..\u001b[m\u001b[m\r\n",
      "-rwx------   1 wolfgang  wheel    64B 10 Jul 12:36 \u001b[31msecret_key\u001b[m\u001b[m\r\n",
      "-rw-r--r--   1 wolfgang  wheel    64B 10 Jul 12:36 secret_key.pub\r\n"
     ]
    }
   ],
   "source": [
    "!ls -hal . ./.encr/"
   ]
  },
  {
   "cell_type": "markdown",
   "metadata": {},
   "source": [
    "Öffentlichen Schlüssel zu Alice transportieren (hier einfach durch kopieren)"
   ]
  },
  {
   "cell_type": "code",
   "execution_count": 7,
   "metadata": {},
   "outputs": [],
   "source": [
    "!cp $fullname'.pub' ../alice/bob.pub"
   ]
  }
 ],
 "metadata": {
  "kernelspec": {
   "display_name": "Python 3",
   "language": "python",
   "name": "python3"
  },
  "language_info": {
   "codemirror_mode": {
    "name": "ipython",
    "version": 3
   },
   "file_extension": ".py",
   "mimetype": "text/x-python",
   "name": "python",
   "nbconvert_exporter": "python",
   "pygments_lexer": "ipython3",
   "version": "3.7.7"
  }
 },
 "nbformat": 4,
 "nbformat_minor": 4
}
