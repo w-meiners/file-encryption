{
 "cells": [
  {
   "cell_type": "code",
   "execution_count": 1,
   "metadata": {},
   "outputs": [
    {
     "name": "stdout",
     "output_type": "stream",
     "text": [
      ".:\r\n",
      "total 304\r\n",
      "drwxr-xr-x   9 wolfgang  wheel   288B 10 Jul 14:07 \u001b[34m.\u001b[m\u001b[m\r\n",
      "drwxr-xr-x  17 wolfgang  wheel   544B 10 Jul 14:06 \u001b[34m..\u001b[m\u001b[m\r\n",
      "drwx------   4 wolfgang  wheel   128B 10 Jul 14:06 \u001b[34m.encr\u001b[m\u001b[m\r\n",
      "drwxr-xr-x   3 wolfgang  wheel    96B 10 Jul 14:06 \u001b[34m.ipynb_checkpoints\u001b[m\u001b[m\r\n",
      "-rw-r--r--   1 wolfgang  wheel   3,4K 10 Jul 14:06 01-Schluesselerzeugung.ipynb\r\n",
      "-rw-r--r--   1 wolfgang  wheel   6,8K 10 Jul 13:03 02-Datei_entschluesseln.ipynb\r\n",
      "-rw-r--r--   1 wolfgang  wheel   779B 10 Jul 13:03 03-Datei_anzeigen.ipynb\r\n",
      "-rw-r--r--   1 wolfgang  wheel   129K 10 Jul 14:07 Rätsel.png.encr.gz\r\n",
      "-rw-r--r--   1 wolfgang  wheel    64B 10 Jul 14:06 alice.pub\r\n",
      "\r\n",
      "./.encr/:\r\n",
      "total 16\r\n",
      "drwx------  4 wolfgang  wheel   128B 10 Jul 14:06 \u001b[34m.\u001b[m\u001b[m\r\n",
      "drwxr-xr-x  9 wolfgang  wheel   288B 10 Jul 14:07 \u001b[34m..\u001b[m\u001b[m\r\n",
      "-rw-------  1 wolfgang  wheel    64B 10 Jul 14:06 secret_key\r\n",
      "-rw-r--r--  1 wolfgang  wheel    64B 10 Jul 14:06 secret_key.pub\r\n"
     ]
    }
   ],
   "source": [
    "!ls -hal . ./.encr/"
   ]
  },
  {
   "cell_type": "markdown",
   "metadata": {},
   "source": [
    "Zuerst Alices öffentliche Schlüssen nach `./.encr` verschieben:"
   ]
  },
  {
   "cell_type": "code",
   "execution_count": 2,
   "metadata": {},
   "outputs": [],
   "source": [
    "!mv alice.pub ./.encr"
   ]
  },
  {
   "cell_type": "code",
   "execution_count": 3,
   "metadata": {},
   "outputs": [
    {
     "name": "stdout",
     "output_type": "stream",
     "text": [
      "./:\r\n",
      "total 296\r\n",
      "drwxr-xr-x   8 wolfgang  wheel   256B 10 Jul 14:07 \u001b[34m.\u001b[m\u001b[m\r\n",
      "drwxr-xr-x  17 wolfgang  wheel   544B 10 Jul 14:06 \u001b[34m..\u001b[m\u001b[m\r\n",
      "drwx------   5 wolfgang  wheel   160B 10 Jul 14:07 \u001b[34m.encr\u001b[m\u001b[m\r\n",
      "drwxr-xr-x   3 wolfgang  wheel    96B 10 Jul 14:06 \u001b[34m.ipynb_checkpoints\u001b[m\u001b[m\r\n",
      "-rw-r--r--   1 wolfgang  wheel   3,4K 10 Jul 14:06 01-Schluesselerzeugung.ipynb\r\n",
      "-rw-r--r--   1 wolfgang  wheel   6,8K 10 Jul 13:03 02-Datei_entschluesseln.ipynb\r\n",
      "-rw-r--r--   1 wolfgang  wheel   779B 10 Jul 13:03 03-Datei_anzeigen.ipynb\r\n",
      "-rw-r--r--   1 wolfgang  wheel   129K 10 Jul 14:07 Rätsel.png.encr.gz\r\n",
      "\r\n",
      "./.encr/:\r\n",
      "total 24\r\n",
      "drwx------  5 wolfgang  wheel   160B 10 Jul 14:07 \u001b[34m.\u001b[m\u001b[m\r\n",
      "drwxr-xr-x  8 wolfgang  wheel   256B 10 Jul 14:07 \u001b[34m..\u001b[m\u001b[m\r\n",
      "-rw-r--r--  1 wolfgang  wheel    64B 10 Jul 14:06 alice.pub\r\n",
      "-rw-------  1 wolfgang  wheel    64B 10 Jul 14:06 secret_key\r\n",
      "-rw-r--r--  1 wolfgang  wheel    64B 10 Jul 14:06 secret_key.pub\r\n"
     ]
    }
   ],
   "source": [
    "!ls -hla ./ ./.encr/"
   ]
  },
  {
   "cell_type": "code",
   "execution_count": 4,
   "metadata": {},
   "outputs": [],
   "source": [
    "import os\n",
    "os.sys.path.append('../')\n",
    "import tools"
   ]
  },
  {
   "cell_type": "markdown",
   "metadata": {},
   "source": [
    "Schlüssel lesen:"
   ]
  },
  {
   "cell_type": "code",
   "execution_count": 5,
   "metadata": {},
   "outputs": [],
   "source": [
    "sk = tools.read_secret_key('./.encr/secret_key')\n",
    "pk = tools.read_public_key('./.encr/alice.pub')"
   ]
  },
  {
   "cell_type": "markdown",
   "metadata": {},
   "source": [
    "Datei entschlüsseln:"
   ]
  },
  {
   "cell_type": "code",
   "execution_count": 6,
   "metadata": {},
   "outputs": [],
   "source": [
    "tools.decrypt(sk,pk,'Rätsel.png.encr.gz','Rätsel.png')"
   ]
  },
  {
   "cell_type": "code",
   "execution_count": 7,
   "metadata": {},
   "outputs": [
    {
     "name": "stdout",
     "output_type": "stream",
     "text": [
      ".:\r\n",
      "total 560\r\n",
      "drwxr-xr-x   9 wolfgang  wheel   288B 10 Jul 14:07 \u001b[34m.\u001b[m\u001b[m\r\n",
      "drwxr-xr-x  17 wolfgang  wheel   544B 10 Jul 14:06 \u001b[34m..\u001b[m\u001b[m\r\n",
      "drwx------   5 wolfgang  wheel   160B 10 Jul 14:07 \u001b[34m.encr\u001b[m\u001b[m\r\n",
      "drwxr-xr-x   3 wolfgang  wheel    96B 10 Jul 14:06 \u001b[34m.ipynb_checkpoints\u001b[m\u001b[m\r\n",
      "-rw-r--r--   1 wolfgang  wheel   3,4K 10 Jul 14:06 01-Schluesselerzeugung.ipynb\r\n",
      "-rw-r--r--   1 wolfgang  wheel   6,8K 10 Jul 13:03 02-Datei_entschluesseln.ipynb\r\n",
      "-rw-r--r--   1 wolfgang  wheel   779B 10 Jul 13:03 03-Datei_anzeigen.ipynb\r\n",
      "-rw-r--r--   1 wolfgang  wheel   129K 10 Jul 14:07 Rätsel.png\r\n",
      "-rw-r--r--   1 wolfgang  wheel   129K 10 Jul 14:07 Rätsel.png.encr.gz\r\n",
      "\r\n",
      "./.encr/:\r\n",
      "total 24\r\n",
      "drwx------  5 wolfgang  wheel   160B 10 Jul 14:07 \u001b[34m.\u001b[m\u001b[m\r\n",
      "drwxr-xr-x  9 wolfgang  wheel   288B 10 Jul 14:07 \u001b[34m..\u001b[m\u001b[m\r\n",
      "-rw-r--r--  1 wolfgang  wheel    64B 10 Jul 14:06 alice.pub\r\n",
      "-rw-------  1 wolfgang  wheel    64B 10 Jul 14:06 secret_key\r\n",
      "-rw-r--r--  1 wolfgang  wheel    64B 10 Jul 14:06 secret_key.pub\r\n"
     ]
    }
   ],
   "source": [
    "!ls -hal . ./.encr/"
   ]
  },
  {
   "cell_type": "markdown",
   "metadata": {},
   "source": [
    "Stimmt die Datei mit dem Original überein?"
   ]
  },
  {
   "cell_type": "code",
   "execution_count": 8,
   "metadata": {},
   "outputs": [],
   "source": [
    "from nacl import hash"
   ]
  },
  {
   "cell_type": "code",
   "execution_count": 9,
   "metadata": {},
   "outputs": [
    {
     "name": "stdout",
     "output_type": "stream",
     "text": [
      "True\n"
     ]
    }
   ],
   "source": [
    "with open('Rätsel.png','rb') as copy, open('../alice/Rätsel.png','rb') as orig:\n",
    "    print(\n",
    "        hash.sha256(copy.read()) == hash.sha256(orig.read())\n",
    "    )"
   ]
  }
 ],
 "metadata": {
  "kernelspec": {
   "display_name": "Python 3",
   "language": "python",
   "name": "python3"
  },
  "language_info": {
   "codemirror_mode": {
    "name": "ipython",
    "version": 3
   },
   "file_extension": ".py",
   "mimetype": "text/x-python",
   "name": "python",
   "nbconvert_exporter": "python",
   "pygments_lexer": "ipython3",
   "version": "3.7.7"
  }
 },
 "nbformat": 4,
 "nbformat_minor": 4
}
