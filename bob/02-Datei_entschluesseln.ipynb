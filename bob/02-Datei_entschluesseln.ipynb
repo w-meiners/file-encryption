{
 "cells": [
  {
   "cell_type": "code",
   "execution_count": 1,
   "metadata": {},
   "outputs": [
    {
     "name": "stdout",
     "output_type": "stream",
     "text": [
      ".:\r\n",
      "total 568\r\n",
      "drwxr-xr-x  10 wolfgang  wheel   320B 10 Jul 12:37 \u001b[34m.\u001b[m\u001b[m\r\n",
      "drwxr-xr-x  15 wolfgang  wheel   480B 10 Jul 12:33 \u001b[34m..\u001b[m\u001b[m\r\n",
      "drwx------   4 wolfgang  wheel   128B 10 Jul 12:36 \u001b[34m.encr\u001b[m\u001b[m\r\n",
      "drwxr-xr-x   4 wolfgang  wheel   128B 10 Jul 11:50 \u001b[34m.ipynb_checkpoints\u001b[m\u001b[m\r\n",
      "-rw-r--r--   1 wolfgang  wheel   3,6K 10 Jul 12:36 01-Schluesselerzeugung.ipynb\r\n",
      "-rw-r--r--   1 wolfgang  wheel   4,3K 10 Jul 11:50 02-Datei_entschluesseln.ipynb\r\n",
      "-rw-r--r--   1 wolfgang  wheel   779B  9 Jul 21:50 03-Datei_anzeigen.ipynb\r\n",
      "-rw-r--r--   1 wolfgang  wheel   129K 10 Jul 11:49 Rätsel.png\r\n",
      "-rw-r--r--   1 wolfgang  wheel   129K 10 Jul 12:37 Rätsel.png.encr.gz\r\n",
      "-rw-r--r--   1 wolfgang  wheel    64B 10 Jul 12:35 alice.pub\r\n",
      "\r\n",
      "./.encr/:\r\n",
      "total 16\r\n",
      "drwx------   4 wolfgang  wheel   128B 10 Jul 12:36 \u001b[34m.\u001b[m\u001b[m\r\n",
      "drwxr-xr-x  10 wolfgang  wheel   320B 10 Jul 12:37 \u001b[34m..\u001b[m\u001b[m\r\n",
      "-rwx------   1 wolfgang  wheel    64B 10 Jul 12:36 \u001b[31msecret_key\u001b[m\u001b[m\r\n",
      "-rw-r--r--   1 wolfgang  wheel    64B 10 Jul 12:36 secret_key.pub\r\n"
     ]
    }
   ],
   "source": [
    "!ls -hal . ./.encr/"
   ]
  },
  {
   "cell_type": "markdown",
   "metadata": {},
   "source": [
    "Zuerst Alices öffentliche Schlüssen nach `./.encr` verschieben:"
   ]
  },
  {
   "cell_type": "code",
   "execution_count": 2,
   "metadata": {},
   "outputs": [],
   "source": [
    "!mv alice.pub ./.encr"
   ]
  },
  {
   "cell_type": "code",
   "execution_count": 3,
   "metadata": {},
   "outputs": [
    {
     "name": "stdout",
     "output_type": "stream",
     "text": [
      "./:\r\n",
      "total 560\r\n",
      "drwxr-xr-x   9 wolfgang  wheel   288B 10 Jul 12:38 \u001b[34m.\u001b[m\u001b[m\r\n",
      "drwxr-xr-x  15 wolfgang  wheel   480B 10 Jul 12:33 \u001b[34m..\u001b[m\u001b[m\r\n",
      "drwx------   5 wolfgang  wheel   160B 10 Jul 12:38 \u001b[34m.encr\u001b[m\u001b[m\r\n",
      "drwxr-xr-x   4 wolfgang  wheel   128B 10 Jul 11:50 \u001b[34m.ipynb_checkpoints\u001b[m\u001b[m\r\n",
      "-rw-r--r--   1 wolfgang  wheel   3,6K 10 Jul 12:36 01-Schluesselerzeugung.ipynb\r\n",
      "-rw-r--r--   1 wolfgang  wheel   4,3K 10 Jul 11:50 02-Datei_entschluesseln.ipynb\r\n",
      "-rw-r--r--   1 wolfgang  wheel   779B  9 Jul 21:50 03-Datei_anzeigen.ipynb\r\n",
      "-rw-r--r--   1 wolfgang  wheel   129K 10 Jul 11:49 Rätsel.png\r\n",
      "-rw-r--r--   1 wolfgang  wheel   129K 10 Jul 12:37 Rätsel.png.encr.gz\r\n",
      "\r\n",
      "./.encr/:\r\n",
      "total 24\r\n",
      "drwx------  5 wolfgang  wheel   160B 10 Jul 12:38 \u001b[34m.\u001b[m\u001b[m\r\n",
      "drwxr-xr-x  9 wolfgang  wheel   288B 10 Jul 12:38 \u001b[34m..\u001b[m\u001b[m\r\n",
      "-rw-r--r--  1 wolfgang  wheel    64B 10 Jul 12:35 alice.pub\r\n",
      "-rwx------  1 wolfgang  wheel    64B 10 Jul 12:36 \u001b[31msecret_key\u001b[m\u001b[m\r\n",
      "-rw-r--r--  1 wolfgang  wheel    64B 10 Jul 12:36 secret_key.pub\r\n"
     ]
    }
   ],
   "source": [
    "!ls -hla ./ ./.encr/"
   ]
  },
  {
   "cell_type": "code",
   "execution_count": 4,
   "metadata": {},
   "outputs": [],
   "source": [
    "import os\n",
    "os.sys.path.append('../')\n",
    "import tools"
   ]
  },
  {
   "cell_type": "markdown",
   "metadata": {},
   "source": [
    "Schlüssel lesen:"
   ]
  },
  {
   "cell_type": "code",
   "execution_count": 5,
   "metadata": {},
   "outputs": [],
   "source": [
    "sk = tools.read_secret_key('./.encr/secret_key')\n",
    "pk = tools.read_public_key('./.encr/alice.pub')"
   ]
  },
  {
   "cell_type": "markdown",
   "metadata": {},
   "source": [
    "Datei entschlüsseln:"
   ]
  },
  {
   "cell_type": "code",
   "execution_count": 6,
   "metadata": {},
   "outputs": [],
   "source": [
    "tools.decrypt(sk,pk,'Rätsel.png.encr.gz','Rätsel.png')"
   ]
  },
  {
   "cell_type": "code",
   "execution_count": 8,
   "metadata": {},
   "outputs": [
    {
     "name": "stdout",
     "output_type": "stream",
     "text": [
      ".:\r\n",
      "total 560\r\n",
      "drwxr-xr-x   9 wolfgang  wheel   288B 10 Jul 12:38 \u001b[34m.\u001b[m\u001b[m\r\n",
      "drwxr-xr-x  15 wolfgang  wheel   480B 10 Jul 12:33 \u001b[34m..\u001b[m\u001b[m\r\n",
      "drwx------   5 wolfgang  wheel   160B 10 Jul 12:38 \u001b[34m.encr\u001b[m\u001b[m\r\n",
      "drwxr-xr-x   4 wolfgang  wheel   128B 10 Jul 11:50 \u001b[34m.ipynb_checkpoints\u001b[m\u001b[m\r\n",
      "-rw-r--r--   1 wolfgang  wheel   3,6K 10 Jul 12:36 01-Schluesselerzeugung.ipynb\r\n",
      "-rw-r--r--   1 wolfgang  wheel   4,3K 10 Jul 11:50 02-Datei_entschluesseln.ipynb\r\n",
      "-rw-r--r--   1 wolfgang  wheel   779B  9 Jul 21:50 03-Datei_anzeigen.ipynb\r\n",
      "-rw-r--r--   1 wolfgang  wheel   129K 10 Jul 12:38 Rätsel.png\r\n",
      "-rw-r--r--   1 wolfgang  wheel   129K 10 Jul 12:37 Rätsel.png.encr.gz\r\n",
      "\r\n",
      "./.encr/:\r\n",
      "total 24\r\n",
      "drwx------  5 wolfgang  wheel   160B 10 Jul 12:38 \u001b[34m.\u001b[m\u001b[m\r\n",
      "drwxr-xr-x  9 wolfgang  wheel   288B 10 Jul 12:38 \u001b[34m..\u001b[m\u001b[m\r\n",
      "-rw-r--r--  1 wolfgang  wheel    64B 10 Jul 12:35 alice.pub\r\n",
      "-rwx------  1 wolfgang  wheel    64B 10 Jul 12:36 \u001b[31msecret_key\u001b[m\u001b[m\r\n",
      "-rw-r--r--  1 wolfgang  wheel    64B 10 Jul 12:36 secret_key.pub\r\n"
     ]
    }
   ],
   "source": [
    "!ls -hal . ./.encr/"
   ]
  },
  {
   "cell_type": "markdown",
   "metadata": {},
   "source": [
    "Stimmt die Datei mit dem Original überein?"
   ]
  },
  {
   "cell_type": "code",
   "execution_count": 9,
   "metadata": {},
   "outputs": [],
   "source": [
    "from nacl import hash"
   ]
  },
  {
   "cell_type": "code",
   "execution_count": 10,
   "metadata": {},
   "outputs": [
    {
     "name": "stdout",
     "output_type": "stream",
     "text": [
      "True\n"
     ]
    }
   ],
   "source": [
    "with open('Rätsel.png','rb') as copy, open('../alice/Rätsel.png','rb') as orig:\n",
    "    print(\n",
    "        hash.sha256(copy.read()) == hash.sha256(orig.read())\n",
    "    )"
   ]
  }
 ],
 "metadata": {
  "kernelspec": {
   "display_name": "Python 3",
   "language": "python",
   "name": "python3"
  },
  "language_info": {
   "codemirror_mode": {
    "name": "ipython",
    "version": 3
   },
   "file_extension": ".py",
   "mimetype": "text/x-python",
   "name": "python",
   "nbconvert_exporter": "python",
   "pygments_lexer": "ipython3",
   "version": "3.7.7"
  }
 },
 "nbformat": 4,
 "nbformat_minor": 4
}
