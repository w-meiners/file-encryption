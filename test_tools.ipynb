{
 "cells": [
  {
   "cell_type": "code",
   "execution_count": 11,
   "metadata": {},
   "outputs": [
    {
     "name": "stdout",
     "output_type": "stream",
     "text": [
      "Overwriting tools.py\n"
     ]
    }
   ],
   "source": [
    "#tools.py\n",
    "import nacl.public, nacl.encoding\n",
    "import os\n",
    "import stat\n",
    "import gzip\n",
    "\n",
    "def assert_permissions(name, permission):\n",
    "    message = f\"Permission of '{name}' must be '{permission}'. \"\\\n",
    "               \"See 'chmod' for help\"\n",
    "    assert stat.filemode(os.stat(name).st_mode)[1:] == permission, message\n",
    "\n",
    "def create_keys(fullname):\n",
    "    ''' Create secret and public keys for nacl\n",
    "    \n",
    "        The keys are stored in path in hexencoding where\n",
    "        path,name = os.split(fullname)\n",
    "        \n",
    "        If path does not exist, raise an error\n",
    "        If path has wrong permissions, raise an error:\n",
    "        Only onwner can read,write or execute path (i.e. chmod path og-rwx)\n",
    "        \n",
    "        If fullname exists, raise an error\n",
    "        \n",
    "        The permissions of the resulting secret keyfile is og-rwx\n",
    "        (Only owner can read,write or execute secret keyfile)\n",
    "    '''\n",
    "    path,name = os.path.split(fullname)\n",
    "    pub_name = fullname+'.pub'\n",
    "    \n",
    "    # path must exist with permissions 'rwx------'\n",
    "    assert os.path.exists(path), f\"Path '{path}' does not exist\"\n",
    "    assert_permissions(path,'rwx------')\n",
    "    \n",
    "    # fullname must not exist\n",
    "    assert not os.path.exists(fullname), f\"keyfile: '{fullname}' exists already\"\n",
    "    \n",
    "    with open(fullname,'w') as s_f, open(pub_name,'w') as p_f:\n",
    "        key = nacl.public.PrivateKey.generate()\n",
    "        \n",
    "        s_f.write(key.encode(nacl.encoding.HexEncoder).decode())\n",
    "        p_f.write(key.public_key.encode(nacl.encoding.HexEncoder).decode())\n",
    "        \n",
    "    os.chmod(fullname,0o700)\n",
    "\n",
    "def read_secret_key(fullname):\n",
    "    ''' Read a private key for nacl from fullname.\n",
    "        The path and the fullname must have the right permissions, og-rwx\n",
    "        (Only user can read,write or execute secret key)\n",
    "    '''\n",
    "    path,name = os.path.split(fullname)\n",
    "    assert (os.stat(path).st_mode & 0o777) == 0o700, \\\n",
    "    f\"Mode of path '{path}' must be 'rwx------' \"\\\n",
    "    f\"but is '{stat.filemode(os.stat(path).st_mode)[1:]}'\"\n",
    "    assert (os.stat(fullname).st_mode & 0o777) == 0o700, \\\n",
    "    f\"Mode of file '{fullname}' must be 'rwx------' \"\\\n",
    "    f\"but is {stat.filemode(os.stat(fullname).st_mode)[1:]}\"\n",
    "    \n",
    "    with open(fullname,'r') as f:\n",
    "        key = nacl.public.PrivateKey(f.read().encode(),encoder=nacl.encoding.HexEncoder)\n",
    "        \n",
    "    return key\n",
    "\n",
    "def read_public_key(fullname):\n",
    "    ''' Read a public key for nacl from fullname'''\n",
    "    \n",
    "    with open(fullname,'r') as f:\n",
    "        key = nacl.public.PublicKey(f.read().encode(),encoder=nacl.encoding.HexEncoder)\n",
    "    \n",
    "    return key\n",
    "\n",
    "def encrypt(sk,pk,f_in_name,f_out_name):\n",
    "    ''' encrypt f_in_name to f_out_name using nacl with \n",
    "        secret key sk and public key pk. If f_out_name\n",
    "        ends with '.gz', use gzip\n",
    "    '''\n",
    "    gzipped = os.path.splitext(f_out_name)[1] == '.gz'\n",
    "    out = gzip.open if gzipped else open\n",
    "    \n",
    "    with open(f_in_name,'rb') as f_in, out(f_out_name,'wb') as f_out:\n",
    "        f_out.write(nacl.public.Box(sk,pk).encrypt(f_in.read()))\n",
    "\n",
    "\n",
    "def decrypt(sk,pk,f_in_name,f_out_name):\n",
    "    ''' decrypt f_in_name to f_out_name using nacl with\n",
    "        secret key sk und public key pk. If f_in_name ends\n",
    "        with '.gz' use gzip\n",
    "    '''\n",
    "    gzipped = os.path.splitext(f_in_name)[1] == '.gz'\n",
    "    in_ = gzip.open if gzipped else open\n",
    "    with in_(f_in_name,'rb') as f_in, open(f_out_name,'wb') as f_out:\n",
    "        f_out.write(nacl.public.Box(sk,pk).decrypt(f_in.read()))\n"
   ]
  },
  {
   "cell_type": "code",
   "execution_count": null,
   "metadata": {},
   "outputs": [],
   "source": [
    "#from tools import *"
   ]
  },
  {
   "cell_type": "code",
   "execution_count": 2,
   "metadata": {},
   "outputs": [],
   "source": [
    "!rm -rf ./.encr/"
   ]
  },
  {
   "cell_type": "code",
   "execution_count": 3,
   "metadata": {},
   "outputs": [
    {
     "name": "stdout",
     "output_type": "stream",
     "text": [
      "total 96\r\n",
      "drwxr-xr-x  14 wolfgang  wheel   448B 10 Jul 12:32 \u001b[34m.\u001b[m\u001b[m\r\n",
      "drwxr-xr-x   3 wolfgang  wheel    96B  9 Jul 21:50 \u001b[34m..\u001b[m\u001b[m\r\n",
      "drwxr-xr-x  12 wolfgang  wheel   384B  9 Jul 21:50 \u001b[34m.git\u001b[m\u001b[m\r\n",
      "-rw-r--r--   1 wolfgang  wheel    37B  9 Jul 21:50 .gitignore\r\n",
      "drwxr-xr-x   3 wolfgang  wheel    96B 10 Jul 11:58 \u001b[34m.ipynb_checkpoints\u001b[m\u001b[m\r\n",
      "-rw-r--r--   1 wolfgang  wheel   6,5K  9 Jul 21:50 Datei_verschluesseln_und_entschluesseln.ipynb\r\n",
      "-rw-r--r--   1 wolfgang  wheel   600B  9 Jul 21:50 README.md\r\n",
      "drwxr-xr-x   3 wolfgang  wheel    96B  9 Jul 21:54 \u001b[34m__pycache__\u001b[m\u001b[m\r\n",
      "drwxr-xr-x   7 wolfgang  wheel   224B 10 Jul 11:47 \u001b[34malice\u001b[m\u001b[m\r\n",
      "drwxr-xr-x   9 wolfgang  wheel   288B 10 Jul 11:50 \u001b[34mbob\u001b[m\u001b[m\r\n",
      "-rw-r--r--   1 wolfgang  wheel    17K 10 Jul 12:31 test_tools.ipynb\r\n",
      "-rw-r--r--   1 wolfgang  wheel    18B  9 Jul 21:50 text.txt\r\n",
      "-rw-r--r--   1 wolfgang  wheel   3,7K  9 Jul 21:50 tools.ipynb\r\n",
      "-rw-r--r--   1 wolfgang  wheel   3,3K  9 Jul 21:50 tools.py\r\n"
     ]
    }
   ],
   "source": [
    "!ls -hal"
   ]
  },
  {
   "cell_type": "code",
   "execution_count": 4,
   "metadata": {},
   "outputs": [
    {
     "ename": "AssertionError",
     "evalue": "Path './.encr' does not exist",
     "output_type": "error",
     "traceback": [
      "\u001b[0;31m---------------------------------------------------------------------------\u001b[0m",
      "\u001b[0;31mAssertionError\u001b[0m                            Traceback (most recent call last)",
      "\u001b[0;32m<ipython-input-4-98ae1514678d>\u001b[0m in \u001b[0;36m<module>\u001b[0;34m\u001b[0m\n\u001b[0;32m----> 1\u001b[0;31m \u001b[0mcreate_keys\u001b[0m\u001b[0;34m(\u001b[0m\u001b[0;34m'./.encr/secret_key'\u001b[0m\u001b[0;34m)\u001b[0m\u001b[0;34m\u001b[0m\u001b[0;34m\u001b[0m\u001b[0m\n\u001b[0m",
      "\u001b[0;32m<ipython-input-1-eeb4215be161>\u001b[0m in \u001b[0;36mcreate_keys\u001b[0;34m(fullname)\u001b[0m\n\u001b[1;32m     29\u001b[0m \u001b[0;34m\u001b[0m\u001b[0m\n\u001b[1;32m     30\u001b[0m     \u001b[0;31m# path must exist with permissions 'rwx------'\u001b[0m\u001b[0;34m\u001b[0m\u001b[0;34m\u001b[0m\u001b[0;34m\u001b[0m\u001b[0m\n\u001b[0;32m---> 31\u001b[0;31m     \u001b[0;32massert\u001b[0m \u001b[0mos\u001b[0m\u001b[0;34m.\u001b[0m\u001b[0mpath\u001b[0m\u001b[0;34m.\u001b[0m\u001b[0mexists\u001b[0m\u001b[0;34m(\u001b[0m\u001b[0mpath\u001b[0m\u001b[0;34m)\u001b[0m\u001b[0;34m,\u001b[0m \u001b[0;34mf\"Path '{path}' does not exist\"\u001b[0m\u001b[0;34m\u001b[0m\u001b[0;34m\u001b[0m\u001b[0m\n\u001b[0m\u001b[1;32m     32\u001b[0m     \u001b[0massert_permissions\u001b[0m\u001b[0;34m(\u001b[0m\u001b[0mpath\u001b[0m\u001b[0;34m,\u001b[0m\u001b[0;34m'rwx------'\u001b[0m\u001b[0;34m)\u001b[0m\u001b[0;34m\u001b[0m\u001b[0;34m\u001b[0m\u001b[0m\n\u001b[1;32m     33\u001b[0m \u001b[0;34m\u001b[0m\u001b[0m\n",
      "\u001b[0;31mAssertionError\u001b[0m: Path './.encr' does not exist"
     ]
    }
   ],
   "source": [
    "create_keys('./.encr/secret_key')"
   ]
  },
  {
   "cell_type": "code",
   "execution_count": 5,
   "metadata": {},
   "outputs": [
    {
     "ename": "AssertionError",
     "evalue": "Permission of './.encr' must be 'rwx------'. See 'chmod' for help",
     "output_type": "error",
     "traceback": [
      "\u001b[0;31m---------------------------------------------------------------------------\u001b[0m",
      "\u001b[0;31mAssertionError\u001b[0m                            Traceback (most recent call last)",
      "\u001b[0;32m<ipython-input-5-ddf68e0da432>\u001b[0m in \u001b[0;36m<module>\u001b[0;34m\u001b[0m\n\u001b[1;32m      1\u001b[0m \u001b[0mget_ipython\u001b[0m\u001b[0;34m(\u001b[0m\u001b[0;34m)\u001b[0m\u001b[0;34m.\u001b[0m\u001b[0msystem\u001b[0m\u001b[0;34m(\u001b[0m\u001b[0;34m'mkdir ./.encr'\u001b[0m\u001b[0;34m)\u001b[0m\u001b[0;34m\u001b[0m\u001b[0;34m\u001b[0m\u001b[0m\n\u001b[0;32m----> 2\u001b[0;31m \u001b[0mcreate_keys\u001b[0m\u001b[0;34m(\u001b[0m\u001b[0;34m'./.encr/secret_key'\u001b[0m\u001b[0;34m)\u001b[0m\u001b[0;34m\u001b[0m\u001b[0;34m\u001b[0m\u001b[0m\n\u001b[0m",
      "\u001b[0;32m<ipython-input-1-eeb4215be161>\u001b[0m in \u001b[0;36mcreate_keys\u001b[0;34m(fullname)\u001b[0m\n\u001b[1;32m     30\u001b[0m     \u001b[0;31m# path must exist with permissions 'rwx------'\u001b[0m\u001b[0;34m\u001b[0m\u001b[0;34m\u001b[0m\u001b[0;34m\u001b[0m\u001b[0m\n\u001b[1;32m     31\u001b[0m     \u001b[0;32massert\u001b[0m \u001b[0mos\u001b[0m\u001b[0;34m.\u001b[0m\u001b[0mpath\u001b[0m\u001b[0;34m.\u001b[0m\u001b[0mexists\u001b[0m\u001b[0;34m(\u001b[0m\u001b[0mpath\u001b[0m\u001b[0;34m)\u001b[0m\u001b[0;34m,\u001b[0m \u001b[0;34mf\"Path '{path}' does not exist\"\u001b[0m\u001b[0;34m\u001b[0m\u001b[0;34m\u001b[0m\u001b[0m\n\u001b[0;32m---> 32\u001b[0;31m     \u001b[0massert_permissions\u001b[0m\u001b[0;34m(\u001b[0m\u001b[0mpath\u001b[0m\u001b[0;34m,\u001b[0m\u001b[0;34m'rwx------'\u001b[0m\u001b[0;34m)\u001b[0m\u001b[0;34m\u001b[0m\u001b[0;34m\u001b[0m\u001b[0m\n\u001b[0m\u001b[1;32m     33\u001b[0m \u001b[0;34m\u001b[0m\u001b[0m\n\u001b[1;32m     34\u001b[0m     \u001b[0;31m# fullname must not exist\u001b[0m\u001b[0;34m\u001b[0m\u001b[0;34m\u001b[0m\u001b[0;34m\u001b[0m\u001b[0m\n",
      "\u001b[0;32m<ipython-input-1-eeb4215be161>\u001b[0m in \u001b[0;36massert_permissions\u001b[0;34m(name, permission)\u001b[0m\n\u001b[1;32m      8\u001b[0m     \u001b[0mmessage\u001b[0m \u001b[0;34m=\u001b[0m \u001b[0;34mf\"Permission of '{name}' must be '{permission}'. \"\u001b[0m\u001b[0;31m\\\u001b[0m\u001b[0;34m\u001b[0m\u001b[0;34m\u001b[0m\u001b[0m\n\u001b[1;32m      9\u001b[0m                \u001b[0;34m\"See 'chmod' for help\"\u001b[0m\u001b[0;34m\u001b[0m\u001b[0;34m\u001b[0m\u001b[0m\n\u001b[0;32m---> 10\u001b[0;31m     \u001b[0;32massert\u001b[0m \u001b[0mstat\u001b[0m\u001b[0;34m.\u001b[0m\u001b[0mfilemode\u001b[0m\u001b[0;34m(\u001b[0m\u001b[0mos\u001b[0m\u001b[0;34m.\u001b[0m\u001b[0mstat\u001b[0m\u001b[0;34m(\u001b[0m\u001b[0mname\u001b[0m\u001b[0;34m)\u001b[0m\u001b[0;34m.\u001b[0m\u001b[0mst_mode\u001b[0m\u001b[0;34m)\u001b[0m\u001b[0;34m[\u001b[0m\u001b[0;36m1\u001b[0m\u001b[0;34m:\u001b[0m\u001b[0;34m]\u001b[0m \u001b[0;34m==\u001b[0m \u001b[0mpermission\u001b[0m\u001b[0;34m,\u001b[0m \u001b[0mmessage\u001b[0m\u001b[0;34m\u001b[0m\u001b[0;34m\u001b[0m\u001b[0m\n\u001b[0m\u001b[1;32m     11\u001b[0m \u001b[0;34m\u001b[0m\u001b[0m\n\u001b[1;32m     12\u001b[0m \u001b[0;32mdef\u001b[0m \u001b[0mcreate_keys\u001b[0m\u001b[0;34m(\u001b[0m\u001b[0mfullname\u001b[0m\u001b[0;34m)\u001b[0m\u001b[0;34m:\u001b[0m\u001b[0;34m\u001b[0m\u001b[0;34m\u001b[0m\u001b[0m\n",
      "\u001b[0;31mAssertionError\u001b[0m: Permission of './.encr' must be 'rwx------'. See 'chmod' for help"
     ]
    }
   ],
   "source": [
    "!mkdir ./.encr\n",
    "create_keys('./.encr/secret_key')"
   ]
  },
  {
   "cell_type": "code",
   "execution_count": 6,
   "metadata": {},
   "outputs": [],
   "source": [
    "!chmod og-rwx ./.encr\n",
    "create_keys('./.encr/secret_key')"
   ]
  },
  {
   "cell_type": "code",
   "execution_count": 7,
   "metadata": {},
   "outputs": [
    {
     "ename": "AssertionError",
     "evalue": "keyfile: './.encr/secret_key' exists already",
     "output_type": "error",
     "traceback": [
      "\u001b[0;31m---------------------------------------------------------------------------\u001b[0m",
      "\u001b[0;31mAssertionError\u001b[0m                            Traceback (most recent call last)",
      "\u001b[0;32m<ipython-input-7-98ae1514678d>\u001b[0m in \u001b[0;36m<module>\u001b[0;34m\u001b[0m\n\u001b[0;32m----> 1\u001b[0;31m \u001b[0mcreate_keys\u001b[0m\u001b[0;34m(\u001b[0m\u001b[0;34m'./.encr/secret_key'\u001b[0m\u001b[0;34m)\u001b[0m\u001b[0;34m\u001b[0m\u001b[0;34m\u001b[0m\u001b[0m\n\u001b[0m",
      "\u001b[0;32m<ipython-input-1-eeb4215be161>\u001b[0m in \u001b[0;36mcreate_keys\u001b[0;34m(fullname)\u001b[0m\n\u001b[1;32m     33\u001b[0m \u001b[0;34m\u001b[0m\u001b[0m\n\u001b[1;32m     34\u001b[0m     \u001b[0;31m# fullname must not exist\u001b[0m\u001b[0;34m\u001b[0m\u001b[0;34m\u001b[0m\u001b[0;34m\u001b[0m\u001b[0m\n\u001b[0;32m---> 35\u001b[0;31m     \u001b[0;32massert\u001b[0m \u001b[0;32mnot\u001b[0m \u001b[0mos\u001b[0m\u001b[0;34m.\u001b[0m\u001b[0mpath\u001b[0m\u001b[0;34m.\u001b[0m\u001b[0mexists\u001b[0m\u001b[0;34m(\u001b[0m\u001b[0mfullname\u001b[0m\u001b[0;34m)\u001b[0m\u001b[0;34m,\u001b[0m \u001b[0;34mf\"keyfile: '{fullname}' exists already\"\u001b[0m\u001b[0;34m\u001b[0m\u001b[0;34m\u001b[0m\u001b[0m\n\u001b[0m\u001b[1;32m     36\u001b[0m \u001b[0;34m\u001b[0m\u001b[0m\n\u001b[1;32m     37\u001b[0m     \u001b[0;32mwith\u001b[0m \u001b[0mopen\u001b[0m\u001b[0;34m(\u001b[0m\u001b[0mfullname\u001b[0m\u001b[0;34m,\u001b[0m\u001b[0;34m'w'\u001b[0m\u001b[0;34m)\u001b[0m \u001b[0;32mas\u001b[0m \u001b[0ms_f\u001b[0m\u001b[0;34m,\u001b[0m \u001b[0mopen\u001b[0m\u001b[0;34m(\u001b[0m\u001b[0mpub_name\u001b[0m\u001b[0;34m,\u001b[0m\u001b[0;34m'w'\u001b[0m\u001b[0;34m)\u001b[0m \u001b[0;32mas\u001b[0m \u001b[0mp_f\u001b[0m\u001b[0;34m:\u001b[0m\u001b[0;34m\u001b[0m\u001b[0;34m\u001b[0m\u001b[0m\n",
      "\u001b[0;31mAssertionError\u001b[0m: keyfile: './.encr/secret_key' exists already"
     ]
    }
   ],
   "source": [
    "create_keys('./.encr/secret_key')"
   ]
  },
  {
   "cell_type": "code",
   "execution_count": 10,
   "metadata": {},
   "outputs": [
    {
     "name": "stdout",
     "output_type": "stream",
     "text": [
      ".:\r\n",
      "total 96\r\n",
      "drwxr-xr-x  15 wolfgang  wheel   480B 10 Jul 12:32 \u001b[34m.\u001b[m\u001b[m\r\n",
      "drwxr-xr-x   3 wolfgang  wheel    96B  9 Jul 21:50 \u001b[34m..\u001b[m\u001b[m\r\n",
      "drwx------   4 wolfgang  wheel   128B 10 Jul 12:32 \u001b[34m.encr\u001b[m\u001b[m\r\n",
      "drwxr-xr-x  12 wolfgang  wheel   384B  9 Jul 21:50 \u001b[34m.git\u001b[m\u001b[m\r\n",
      "-rw-r--r--   1 wolfgang  wheel    37B  9 Jul 21:50 .gitignore\r\n",
      "drwxr-xr-x   3 wolfgang  wheel    96B 10 Jul 11:58 \u001b[34m.ipynb_checkpoints\u001b[m\u001b[m\r\n",
      "-rw-r--r--   1 wolfgang  wheel   6,5K  9 Jul 21:50 Datei_verschluesseln_und_entschluesseln.ipynb\r\n",
      "-rw-r--r--   1 wolfgang  wheel   600B  9 Jul 21:50 README.md\r\n",
      "drwxr-xr-x   3 wolfgang  wheel    96B  9 Jul 21:54 \u001b[34m__pycache__\u001b[m\u001b[m\r\n",
      "drwxr-xr-x   7 wolfgang  wheel   224B 10 Jul 11:47 \u001b[34malice\u001b[m\u001b[m\r\n",
      "drwxr-xr-x   9 wolfgang  wheel   288B 10 Jul 11:50 \u001b[34mbob\u001b[m\u001b[m\r\n",
      "-rw-r--r--   1 wolfgang  wheel    17K 10 Jul 12:31 test_tools.ipynb\r\n",
      "-rw-r--r--   1 wolfgang  wheel    18B  9 Jul 21:50 text.txt\r\n",
      "-rw-r--r--   1 wolfgang  wheel   3,7K  9 Jul 21:50 tools.ipynb\r\n",
      "-rw-r--r--   1 wolfgang  wheel   3,3K  9 Jul 21:50 tools.py\r\n",
      "\r\n",
      "./.encr:\r\n",
      "total 16\r\n",
      "drwx------   4 wolfgang  wheel   128B 10 Jul 12:32 \u001b[34m.\u001b[m\u001b[m\r\n",
      "drwxr-xr-x  15 wolfgang  wheel   480B 10 Jul 12:32 \u001b[34m..\u001b[m\u001b[m\r\n",
      "-rwx------   1 wolfgang  wheel    64B 10 Jul 12:32 \u001b[31msecret_key\u001b[m\u001b[m\r\n",
      "-rw-r--r--   1 wolfgang  wheel    64B 10 Jul 12:32 secret_key.pub\r\n"
     ]
    }
   ],
   "source": [
    "!ls -hla . ./.encr"
   ]
  }
 ],
 "metadata": {
  "kernelspec": {
   "display_name": "Python 3",
   "language": "python",
   "name": "python3"
  },
  "language_info": {
   "codemirror_mode": {
    "name": "ipython",
    "version": 3
   },
   "file_extension": ".py",
   "mimetype": "text/x-python",
   "name": "python",
   "nbconvert_exporter": "python",
   "pygments_lexer": "ipython3",
   "version": "3.7.7"
  }
 },
 "nbformat": 4,
 "nbformat_minor": 4
}
