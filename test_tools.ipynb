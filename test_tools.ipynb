{
 "cells": [
  {
   "cell_type": "code",
   "execution_count": 10,
   "metadata": {},
   "outputs": [
    {
     "name": "stdout",
     "output_type": "stream",
     "text": [
      "Overwriting tools.py\n"
     ]
    }
   ],
   "source": [
    "#%%writefile tools.py\n",
    "import nacl.public, nacl.encoding\n",
    "import os\n",
    "import stat\n",
    "import gzip\n",
    "\n",
    "def create_keys(fullname):\n",
    "    ''' Create secret and public keys for nacl\n",
    "    \n",
    "        The keys are stored in path in hexencoding where\n",
    "        path,name = os.split(fullname)\n",
    "        \n",
    "        If path does not exist, raise an error\n",
    "        If path has wrong permissions, raise an error:\n",
    "        Only onwner can read,write or execute path (i.e. chmod path og-rwx)\n",
    "        \n",
    "        The permissions of the resulting secret keyfile is og-rwx\n",
    "        (Only owner can read,write or execute secret keyfile)\n",
    "    '''\n",
    "    path,name = os.path.split(fullname)\n",
    "    pub_name = fullname+'.pub'\n",
    "    \n",
    "    assert os.path.exists(path), f\"path '{path}' does not exist\"\n",
    "    \n",
    "    # user, group and others permissions on path must be 0o700\n",
    "    # what means: user can read (1), write (2), execute (4) , 1+2+4 = 0o7\n",
    "    #             group can not read, write or execute (0)            0o0\n",
    "    #             others can not read, write or execute (0)           0o0\n",
    "    assert (os.stat(path).st_mode & 0o777) == 0o700, \\\n",
    "    f\"Mode of path: '{path}' must be 'rwx------' \"\\\n",
    "    f\"but is '{stat.filemode(os.stat(path).st_mode)[1:]}'\"\n",
    "    \n",
    "    assert not os.path.exists(fullname), f\"keyfile: '{fullname}' exists already\"\n",
    "    \n",
    "    with open(fullname,'w') as s_f, open(pub_name,'w') as p_f:\n",
    "        key = nacl.public.PrivateKey.generate()\n",
    "        \n",
    "        s_f.write(key.encode(nacl.encoding.HexEncoder).decode())\n",
    "        p_f.write(key.public_key.encode(nacl.encoding.HexEncoder).decode())\n",
    "        \n",
    "    os.chmod(fullname,0o700)\n",
    "\n",
    "def read_secret_key(fullname):\n",
    "    ''' Read a private key for nacl from fullname.\n",
    "        The path and the fullname must have the right permissions, og-rwx\n",
    "        (Only user can read,write or execute secret key)\n",
    "    '''\n",
    "    path,name = os.path.split(fullname)\n",
    "    assert (os.stat(path).st_mode & 0o777) == 0o700, \\\n",
    "    f\"Mode of path '{path}' must be 'rwx------' \"\\\n",
    "    f\"but is '{stat.filemode(os.stat(path).st_mode)[1:]}'\"\n",
    "    assert (os.stat(fullname).st_mode & 0o777) == 0o700, \\\n",
    "    f\"Mode of file '{fullname}' must be 'rwx------' \"\\\n",
    "    f\"but is {stat.filemode(os.stat(fullname).st_mode)[1:]}\"\n",
    "    \n",
    "    with open(fullname,'r') as f:\n",
    "        key = nacl.public.PrivateKey(f.read().encode(),encoder=nacl.encoding.HexEncoder)\n",
    "        \n",
    "    return key\n",
    "\n",
    "def read_public_key(fullname):\n",
    "    ''' Read a public key for nacl from fullname'''\n",
    "    \n",
    "    with open(fullname,'r') as f:\n",
    "        key = nacl.public.PublicKey(f.read().encode(),encoder=nacl.encoding.HexEncoder)\n",
    "    \n",
    "    return key\n",
    "\n",
    "def encrypt(sk,pk,f_in_name,f_out_name):\n",
    "    ''' encrypt f_in_name to f_out_name using nacl with \n",
    "        secret key sk and public key pk. If f_out_name\n",
    "        ends with '.gz', use gzip\n",
    "    '''\n",
    "    gzipped = os.path.splitext(f_out_name)[1] == '.gz'\n",
    "    out = gzip.open if gzipped else open\n",
    "    \n",
    "    with open(f_in_name,'rb') as f_in, out(f_out_name,'wb') as f_out:\n",
    "        f_out.write(nacl.public.Box(sk,pk).encrypt(f_in.read()))\n",
    "\n",
    "\n",
    "def decrypt(sk,pk,f_in_name,f_out_name):\n",
    "    ''' decrypt f_in_name to f_out_name using nacl with\n",
    "        secret key sk und public key pk. If f_in_name ends\n",
    "        with '.gz' use gzip\n",
    "    '''\n",
    "    gzipped = os.path.splitext(f_in_name)[1] == '.gz'\n",
    "    in_ = gzip.open if gzipped else open\n",
    "    with in_(f_in_name,'rb') as f_in, open(f_out_name,'wb') as f_out:\n",
    "        f_out.write(nacl.public.Box(sk,pk).decrypt(f_in.read()))\n"
   ]
  },
  {
   "cell_type": "code",
   "execution_count": null,
   "metadata": {},
   "outputs": [],
   "source": [
    "from tools import *"
   ]
  },
  {
   "cell_type": "code",
   "execution_count": 2,
   "metadata": {},
   "outputs": [],
   "source": [
    "!rm -rf ./.encr/"
   ]
  },
  {
   "cell_type": "code",
   "execution_count": 3,
   "metadata": {},
   "outputs": [
    {
     "name": "stdout",
     "output_type": "stream",
     "text": [
      "total 96\r\n",
      "drwxr-xr-x  14 wolfgang  wheel   448B  9 Jul 21:28 \u001b[34m.\u001b[m\u001b[m\r\n",
      "drwxr-xr-x   3 wolfgang  wheel    96B  9 Jul 18:54 \u001b[34m..\u001b[m\u001b[m\r\n",
      "drwxr-xr-x  12 wolfgang  wheel   384B  9 Jul 18:55 \u001b[34m.git\u001b[m\u001b[m\r\n",
      "-rw-r--r--   1 wolfgang  wheel    37B  9 Jul 18:54 .gitignore\r\n",
      "drwxr-xr-x   3 wolfgang  wheel    96B  9 Jul 18:58 \u001b[34m.ipynb_checkpoints\u001b[m\u001b[m\r\n",
      "-rw-r--r--   1 wolfgang  wheel   6,5K  9 Jul 18:54 Datei_verschluesseln_und_entschluesseln.ipynb\r\n",
      "-rw-r--r--   1 wolfgang  wheel   600B  9 Jul 18:54 README.md\r\n",
      "-rw-r--r--   1 wolfgang  wheel    18K  9 Jul 21:28 Untitled.ipynb\r\n",
      "drwxr-xr-x   3 wolfgang  wheel    96B  9 Jul 21:13 \u001b[34m__pycache__\u001b[m\u001b[m\r\n",
      "drwxr-xr-x   5 wolfgang  wheel   160B  9 Jul 18:54 \u001b[34malice\u001b[m\u001b[m\r\n",
      "drwxr-xr-x   5 wolfgang  wheel   160B  9 Jul 18:54 \u001b[34mbob\u001b[m\u001b[m\r\n",
      "-rw-r--r--   1 wolfgang  wheel    18B  9 Jul 18:54 text.txt\r\n",
      "-rw-r--r--   1 wolfgang  wheel   2,9K  9 Jul 18:54 tools.ipynb\r\n",
      "-rw-r--r--   1 wolfgang  wheel   3,4K  9 Jul 21:13 tools.py\r\n"
     ]
    }
   ],
   "source": [
    "!ls -hal"
   ]
  },
  {
   "cell_type": "code",
   "execution_count": 4,
   "metadata": {},
   "outputs": [
    {
     "ename": "AssertionError",
     "evalue": "path './.encr' does not exist",
     "output_type": "error",
     "traceback": [
      "\u001b[0;31m---------------------------------------------------------------------------\u001b[0m",
      "\u001b[0;31mAssertionError\u001b[0m                            Traceback (most recent call last)",
      "\u001b[0;32m<ipython-input-4-98ae1514678d>\u001b[0m in \u001b[0;36m<module>\u001b[0;34m\u001b[0m\n\u001b[0;32m----> 1\u001b[0;31m \u001b[0mcreate_keys\u001b[0m\u001b[0;34m(\u001b[0m\u001b[0;34m'./.encr/secret_key'\u001b[0m\u001b[0;34m)\u001b[0m\u001b[0;34m\u001b[0m\u001b[0;34m\u001b[0m\u001b[0m\n\u001b[0m",
      "\u001b[0;32m<ipython-input-1-618a6cb7b946>\u001b[0m in \u001b[0;36mcreate_keys\u001b[0;34m(fullname)\u001b[0m\n\u001b[1;32m     21\u001b[0m     \u001b[0mpub_name\u001b[0m \u001b[0;34m=\u001b[0m \u001b[0mfullname\u001b[0m\u001b[0;34m+\u001b[0m\u001b[0;34m'.pub'\u001b[0m\u001b[0;34m\u001b[0m\u001b[0;34m\u001b[0m\u001b[0m\n\u001b[1;32m     22\u001b[0m \u001b[0;34m\u001b[0m\u001b[0m\n\u001b[0;32m---> 23\u001b[0;31m     \u001b[0;32massert\u001b[0m \u001b[0mos\u001b[0m\u001b[0;34m.\u001b[0m\u001b[0mpath\u001b[0m\u001b[0;34m.\u001b[0m\u001b[0mexists\u001b[0m\u001b[0;34m(\u001b[0m\u001b[0mpath\u001b[0m\u001b[0;34m)\u001b[0m\u001b[0;34m,\u001b[0m \u001b[0;34mf\"path '{path}' does not exist\"\u001b[0m\u001b[0;34m\u001b[0m\u001b[0;34m\u001b[0m\u001b[0m\n\u001b[0m\u001b[1;32m     24\u001b[0m \u001b[0;34m\u001b[0m\u001b[0m\n\u001b[1;32m     25\u001b[0m     \u001b[0;31m# user, group and others permissions on path must be 0o700\u001b[0m\u001b[0;34m\u001b[0m\u001b[0;34m\u001b[0m\u001b[0;34m\u001b[0m\u001b[0m\n",
      "\u001b[0;31mAssertionError\u001b[0m: path './.encr' does not exist"
     ]
    }
   ],
   "source": [
    "create_keys('./.encr/secret_key')"
   ]
  },
  {
   "cell_type": "code",
   "execution_count": 5,
   "metadata": {},
   "outputs": [
    {
     "ename": "AssertionError",
     "evalue": "Mode of path: './.encr' must be 'rwx------' but is 'rwxr-xr-x'",
     "output_type": "error",
     "traceback": [
      "\u001b[0;31m---------------------------------------------------------------------------\u001b[0m",
      "\u001b[0;31mAssertionError\u001b[0m                            Traceback (most recent call last)",
      "\u001b[0;32m<ipython-input-5-ddf68e0da432>\u001b[0m in \u001b[0;36m<module>\u001b[0;34m\u001b[0m\n\u001b[1;32m      1\u001b[0m \u001b[0mget_ipython\u001b[0m\u001b[0;34m(\u001b[0m\u001b[0;34m)\u001b[0m\u001b[0;34m.\u001b[0m\u001b[0msystem\u001b[0m\u001b[0;34m(\u001b[0m\u001b[0;34m'mkdir ./.encr'\u001b[0m\u001b[0;34m)\u001b[0m\u001b[0;34m\u001b[0m\u001b[0;34m\u001b[0m\u001b[0m\n\u001b[0;32m----> 2\u001b[0;31m \u001b[0mcreate_keys\u001b[0m\u001b[0;34m(\u001b[0m\u001b[0;34m'./.encr/secret_key'\u001b[0m\u001b[0;34m)\u001b[0m\u001b[0;34m\u001b[0m\u001b[0;34m\u001b[0m\u001b[0m\n\u001b[0m",
      "\u001b[0;32m<ipython-input-1-618a6cb7b946>\u001b[0m in \u001b[0;36mcreate_keys\u001b[0;34m(fullname)\u001b[0m\n\u001b[1;32m     28\u001b[0m     \u001b[0;31m#             others can not read, write or execute (0)           0o0\u001b[0m\u001b[0;34m\u001b[0m\u001b[0;34m\u001b[0m\u001b[0;34m\u001b[0m\u001b[0m\n\u001b[1;32m     29\u001b[0m     \u001b[0;32massert\u001b[0m \u001b[0;34m(\u001b[0m\u001b[0mos\u001b[0m\u001b[0;34m.\u001b[0m\u001b[0mstat\u001b[0m\u001b[0;34m(\u001b[0m\u001b[0mpath\u001b[0m\u001b[0;34m)\u001b[0m\u001b[0;34m.\u001b[0m\u001b[0mst_mode\u001b[0m \u001b[0;34m&\u001b[0m \u001b[0;36m0o777\u001b[0m\u001b[0;34m)\u001b[0m \u001b[0;34m==\u001b[0m \u001b[0;36m0o700\u001b[0m\u001b[0;34m,\u001b[0m\u001b[0;31m \u001b[0m\u001b[0;31m\\\u001b[0m\u001b[0;34m\u001b[0m\u001b[0;34m\u001b[0m\u001b[0m\n\u001b[0;32m---> 30\u001b[0;31m     \u001b[0;34mf\"Mode of path: '{path}' must be 'rwx------' \"\u001b[0m\u001b[0;31m\\\u001b[0m\u001b[0;34m\u001b[0m\u001b[0;34m\u001b[0m\u001b[0m\n\u001b[0m\u001b[1;32m     31\u001b[0m     \u001b[0;34mf\"but is '{stat.filemode(os.stat(path).st_mode)[1:]}'\"\u001b[0m\u001b[0;34m\u001b[0m\u001b[0;34m\u001b[0m\u001b[0m\n\u001b[1;32m     32\u001b[0m \u001b[0;34m\u001b[0m\u001b[0m\n",
      "\u001b[0;31mAssertionError\u001b[0m: Mode of path: './.encr' must be 'rwx------' but is 'rwxr-xr-x'"
     ]
    }
   ],
   "source": [
    "!mkdir ./.encr\n",
    "create_keys('./.encr/secret_key')"
   ]
  },
  {
   "cell_type": "code",
   "execution_count": 6,
   "metadata": {},
   "outputs": [],
   "source": [
    "!chmod og-rwx ./.encr\n",
    "create_keys('./.encr/secret_key')"
   ]
  },
  {
   "cell_type": "code",
   "execution_count": 7,
   "metadata": {},
   "outputs": [
    {
     "ename": "AssertionError",
     "evalue": "keyfile: './.encr/secret_key' exists already",
     "output_type": "error",
     "traceback": [
      "\u001b[0;31m---------------------------------------------------------------------------\u001b[0m",
      "\u001b[0;31mAssertionError\u001b[0m                            Traceback (most recent call last)",
      "\u001b[0;32m<ipython-input-7-98ae1514678d>\u001b[0m in \u001b[0;36m<module>\u001b[0;34m\u001b[0m\n\u001b[0;32m----> 1\u001b[0;31m \u001b[0mcreate_keys\u001b[0m\u001b[0;34m(\u001b[0m\u001b[0;34m'./.encr/secret_key'\u001b[0m\u001b[0;34m)\u001b[0m\u001b[0;34m\u001b[0m\u001b[0;34m\u001b[0m\u001b[0m\n\u001b[0m",
      "\u001b[0;32m<ipython-input-1-618a6cb7b946>\u001b[0m in \u001b[0;36mcreate_keys\u001b[0;34m(fullname)\u001b[0m\n\u001b[1;32m     31\u001b[0m     \u001b[0;34mf\"but is '{stat.filemode(os.stat(path).st_mode)[1:]}'\"\u001b[0m\u001b[0;34m\u001b[0m\u001b[0;34m\u001b[0m\u001b[0m\n\u001b[1;32m     32\u001b[0m \u001b[0;34m\u001b[0m\u001b[0m\n\u001b[0;32m---> 33\u001b[0;31m     \u001b[0;32massert\u001b[0m \u001b[0;32mnot\u001b[0m \u001b[0mos\u001b[0m\u001b[0;34m.\u001b[0m\u001b[0mpath\u001b[0m\u001b[0;34m.\u001b[0m\u001b[0mexists\u001b[0m\u001b[0;34m(\u001b[0m\u001b[0mfullname\u001b[0m\u001b[0;34m)\u001b[0m\u001b[0;34m,\u001b[0m \u001b[0;34mf\"keyfile: '{fullname}' exists already\"\u001b[0m\u001b[0;34m\u001b[0m\u001b[0;34m\u001b[0m\u001b[0m\n\u001b[0m\u001b[1;32m     34\u001b[0m \u001b[0;34m\u001b[0m\u001b[0m\n\u001b[1;32m     35\u001b[0m     \u001b[0;32mwith\u001b[0m \u001b[0mopen\u001b[0m\u001b[0;34m(\u001b[0m\u001b[0mfullname\u001b[0m\u001b[0;34m,\u001b[0m\u001b[0;34m'w'\u001b[0m\u001b[0;34m)\u001b[0m \u001b[0;32mas\u001b[0m \u001b[0ms_f\u001b[0m\u001b[0;34m,\u001b[0m \u001b[0mopen\u001b[0m\u001b[0;34m(\u001b[0m\u001b[0mpub_name\u001b[0m\u001b[0;34m,\u001b[0m\u001b[0;34m'w'\u001b[0m\u001b[0;34m)\u001b[0m \u001b[0;32mas\u001b[0m \u001b[0mp_f\u001b[0m\u001b[0;34m:\u001b[0m\u001b[0;34m\u001b[0m\u001b[0;34m\u001b[0m\u001b[0m\n",
      "\u001b[0;31mAssertionError\u001b[0m: keyfile: './.encr/secret_key' exists already"
     ]
    }
   ],
   "source": [
    "create_keys('./.encr/secret_key')"
   ]
  },
  {
   "cell_type": "code",
   "execution_count": 8,
   "metadata": {},
   "outputs": [
    {
     "name": "stdout",
     "output_type": "stream",
     "text": [
      "total 96\r\n",
      "drwxr-xr-x  15 wolfgang  wheel   480B  9 Jul 21:28 \u001b[34m.\u001b[m\u001b[m\r\n",
      "drwxr-xr-x   3 wolfgang  wheel    96B  9 Jul 18:54 \u001b[34m..\u001b[m\u001b[m\r\n",
      "drwx------   4 wolfgang  wheel   128B  9 Jul 21:28 \u001b[34m.encr\u001b[m\u001b[m\r\n",
      "drwxr-xr-x  12 wolfgang  wheel   384B  9 Jul 18:55 \u001b[34m.git\u001b[m\u001b[m\r\n",
      "-rw-r--r--   1 wolfgang  wheel    37B  9 Jul 18:54 .gitignore\r\n",
      "drwxr-xr-x   3 wolfgang  wheel    96B  9 Jul 18:58 \u001b[34m.ipynb_checkpoints\u001b[m\u001b[m\r\n",
      "-rw-r--r--   1 wolfgang  wheel   6,5K  9 Jul 18:54 Datei_verschluesseln_und_entschluesseln.ipynb\r\n",
      "-rw-r--r--   1 wolfgang  wheel   600B  9 Jul 18:54 README.md\r\n",
      "-rw-r--r--   1 wolfgang  wheel    18K  9 Jul 21:28 Untitled.ipynb\r\n",
      "drwxr-xr-x   3 wolfgang  wheel    96B  9 Jul 21:13 \u001b[34m__pycache__\u001b[m\u001b[m\r\n",
      "drwxr-xr-x   5 wolfgang  wheel   160B  9 Jul 18:54 \u001b[34malice\u001b[m\u001b[m\r\n",
      "drwxr-xr-x   5 wolfgang  wheel   160B  9 Jul 18:54 \u001b[34mbob\u001b[m\u001b[m\r\n",
      "-rw-r--r--   1 wolfgang  wheel    18B  9 Jul 18:54 text.txt\r\n",
      "-rw-r--r--   1 wolfgang  wheel   2,9K  9 Jul 18:54 tools.ipynb\r\n",
      "-rw-r--r--   1 wolfgang  wheel   3,4K  9 Jul 21:13 tools.py\r\n"
     ]
    }
   ],
   "source": [
    "!ls -hal "
   ]
  },
  {
   "cell_type": "code",
   "execution_count": 9,
   "metadata": {},
   "outputs": [
    {
     "name": "stdout",
     "output_type": "stream",
     "text": [
      "total 16\r\n",
      "drwx------   4 wolfgang  wheel   128B  9 Jul 21:28 \u001b[34m.\u001b[m\u001b[m\r\n",
      "drwxr-xr-x  15 wolfgang  wheel   480B  9 Jul 21:28 \u001b[34m..\u001b[m\u001b[m\r\n",
      "-rwx------   1 wolfgang  wheel    64B  9 Jul 21:28 \u001b[31msecret_key\u001b[m\u001b[m\r\n",
      "-rw-r--r--   1 wolfgang  wheel    64B  9 Jul 21:28 secret_key.pub\r\n"
     ]
    }
   ],
   "source": [
    "!ls -hal ./.encr/"
   ]
  }
 ],
 "metadata": {
  "kernelspec": {
   "display_name": "Python 3",
   "language": "python",
   "name": "python3"
  },
  "language_info": {
   "codemirror_mode": {
    "name": "ipython",
    "version": 3
   },
   "file_extension": ".py",
   "mimetype": "text/x-python",
   "name": "python",
   "nbconvert_exporter": "python",
   "pygments_lexer": "ipython3",
   "version": "3.7.7"
  }
 },
 "nbformat": 4,
 "nbformat_minor": 4
}
