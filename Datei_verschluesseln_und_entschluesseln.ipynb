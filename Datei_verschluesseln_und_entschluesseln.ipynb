{
 "cells": [
  {
   "cell_type": "markdown",
   "metadata": {},
   "source": [
    "# Dateien verschlüsseln und entschlüsseln mit PyNaCl"
   ]
  },
  {
   "cell_type": "markdown",
   "metadata": {},
   "source": [
    "`PyNaCl` ist eine Pythonanbindung an `libsodium`, ein Fork der 'Networking and Cryptography library' (NaCl).\n",
    "Damit ist unter anderem die asymmetrische Verschlüsselung mit Schlüsselpaaren möglich. Diese Form der Verschlüsselung kommt bevorzugt dann zur Anwendung, wenn Informationen sicher zwischen zwei Teilnehmern ausgetauscht werden sollen."
   ]
  },
  {
   "cell_type": "markdown",
   "metadata": {},
   "source": [
    "Asymmetrische Verschlüsselung arbeitet mit zwei Schlüsselpaaren, die jeweils aus einem privaten und einem öffentlichen Schlüssel bestehen. Möchte Alice eine Datei verschlüsselt an Bob senden, so benötigt sie ihren eigenen geheimen Schlüssel und den öffentlichen Schlüssel von Bob.\n",
    "\n",
    "Um die Datei, die mit diesen beiden Schlüsseln gesichert wurde, wieder lesbar zu machen, benötigt Bob seinen geheimen Schlüssel und den öffentlichen Schlüssel von Alice."
   ]
  },
  {
   "cell_type": "markdown",
   "metadata": {},
   "source": [
    "Bob benötigt keine elektronische Unterschrift von Alice, um ihre Urheberschaft zu verifizieren. Denn dadurch, dass die Entschlüsselung Alices öffentlichen Schlüssel erfordert, kann diese Datei nur mit ihrem geheimen Schlüssel verschlüsselt worden sein. Sollte die verschlüsselte Datei verfälscht worden sein, so schlägt die Entschlüsselung fehl.\n",
    "\n",
    "Deshalb muss Alice ihren geheimen Schlüssel sorgfältig verwahren, denn mit diesem Schlüssel könnte auch jemand fremdes ein korrekt verschlüsseltes Dokument an Bob senden.\n",
    "\n",
    "Gleichermaßen muss Bob seinen geheimen Schlüssel sorgfältig verwahren, denn mit diesem Schlüssel könnte auch jemand fremdes das Dokument von Alice entschlüsseln."
   ]
  },
  {
   "cell_type": "markdown",
   "metadata": {},
   "source": [
    "Die öffentlichen Schlüssel von Alice und Bob müssen nicht geheim gehalten werden. Sie müssen vielmehr im Vorfeld der verschlüsselten Datenübertragung untereinander ausgetauscht werden. Dies kann z.B. per Email, per SMS oder auch per Whatsapp/Threema/Signal etc. geschehen, oder durch Veröffentlichung des öffentlichen Schlüssels auf der privaten Homepage von Alice bzw. Bob."
   ]
  },
  {
   "cell_type": "markdown",
   "metadata": {},
   "source": [
    "NaCl sieht keine Sicherung des geheimen Schlüssels durch ein Passwort oder eine Passphrase vor, wie dies z.B. bei `gpg` (gnu privacy guard) bzw. `pgp` (pretty good privacy) vorgesehen ist. Die sichere Aufbewahrung des geheimen Schlüssels obliegt deshalb dem Nutzer.\n",
    "\n",
    "Ist der Rechner, auf dem der geheime Schlüssel eines Nutzers liegt, kompromittiert, so muss auch der geheime Schlüssel als kompromittiert angesehen werden und sollte schnellstmöglich ersetzt werden."
   ]
  },
  {
   "cell_type": "markdown",
   "metadata": {},
   "source": [
    "`PyNaCl` ist auf https://pynacl.readthedocs.io/en/stable/ dokumentiert."
   ]
  },
  {
   "cell_type": "markdown",
   "metadata": {},
   "source": [
    "## Die Funktionen in tools.py"
   ]
  },
  {
   "cell_type": "markdown",
   "metadata": {},
   "source": [
    "Im Modul `tools.py` sind einige Funktionen zusammengestellt, die Alice und Bob bei der sicheren Dateiübertragung unterstützen.\n",
    "\n",
    "Nach der Zeile\n",
    "\n",
    "`import tools`\n",
    "\n",
    "stehen die folgenden Funktionen zur Verfügung:"
   ]
  },
  {
   "cell_type": "markdown",
   "metadata": {},
   "source": [
    "`tools.create_keys(fullname)`\n",
    "\n",
    "Diese Funktion dient zur Erzeugung eines Schlüsselpaares. sie wird mit einem vollständigen Namen aus Pfad und Filenamen in der Form\n",
    "\n",
    "`Path_to_key/secret_key_name`\n",
    "\n",
    "aufgerufen. Dabei darf der Pfad `Path_to_key` nur vom User gelesen, geschrieben oder ausgeführt werden können. Der Pfad muss existieren, bevor `tools.create_keys` aufgerufen werden kann. Am einfachsten wird er aus `python` heraus mit den Befehlen\n",
    "\n",
    "```\n",
    "import os\n",
    "os.mkdir('./.keys',mode=0o700)\n",
    "```\n",
    "\n",
    "aufgerufen. Damit wird im aktuellen Verzeichnis ein unsichtbares Unterverzeichnis mit dem Namen `.keys` und den passenden Berechtigungen angelegt."
   ]
  },
  {
   "cell_type": "markdown",
   "metadata": {},
   "source": [
    "Im Anschluss kann der Befehl\n",
    "\n",
    "```\n",
    "tools.create_keys('./.keys/secret')\n",
    "```\n",
    "\n",
    "aufgerufen werden. Damit werden zwei Dateien erzeugt, nämlich\n",
    "\n",
    "`./.keys/secret # enthält den geheimen Schlüssel`\n",
    "\n",
    "sowie\n",
    "\n",
    "`./.keys/secret.pub # enthält den öffentlichen Schlüssel`\n",
    "\n",
    "Diese beiden Dateien enhalten den geheimen und den öffentlichen Schlüssel in hexadezimaler Schreibweise."
   ]
  },
  {
   "cell_type": "markdown",
   "metadata": {},
   "source": [
    "`tools.read_secret_key(fullname)`\n",
    "\n",
    "Diese Funktion liest aus dem vollständigen Dateinamen `fullpath` den geheimen Schlüssel. Sind die Berechtigungen des geheimen Schlüssels und des Pfades falsch eingestellt, so wird mit einer Fehlermeldung abgebrochen.\n",
    "\n",
    "`tools.read_public_key(fullname)`\n",
    "\n",
    "Diese Funktion liest aus dem vollständigen Dateilnamen `fullpath` den öffentlichen Schlüssel."
   ]
  },
  {
   "cell_type": "markdown",
   "metadata": {},
   "source": [
    "`tools.encrypt(sk,pk,f_in_name,f_out_name)`\n",
    "\n",
    "Mit dieser Funktion wird die Datei mit dem Namen `f_in_nam` verschlüsselt. Die Ausgabe erfolgt in die Datei `f_out_name`. Wenn diese Datei existiert, wird sie ohne Nachfrage überschrieben.\n",
    "\n",
    "`tools.decrypt(sk,pk,f_in_name,f_out_name)`\n",
    "\n",
    "Mit dieser Funktion wird die Datei mit dem Namen `f_in_name` entschlüsselt. Die Ausgabe der entschlüsselten Datei erfolgt in die Datei `f_out_name`. Wenn diese Datei existiert, wird sie ohne Nachfrage überschrieben."
   ]
  }
 ],
 "metadata": {
  "kernelspec": {
   "display_name": "Python 3",
   "language": "python",
   "name": "python3"
  },
  "language_info": {
   "codemirror_mode": {
    "name": "ipython",
    "version": 3
   },
   "file_extension": ".py",
   "mimetype": "text/x-python",
   "name": "python",
   "nbconvert_exporter": "python",
   "pygments_lexer": "ipython3",
   "version": "3.7.7"
  }
 },
 "nbformat": 4,
 "nbformat_minor": 4
}
